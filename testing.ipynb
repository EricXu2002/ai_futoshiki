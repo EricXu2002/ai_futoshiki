{
 "cells": [
  {
   "cell_type": "code",
   "execution_count": 1,
   "metadata": {},
   "outputs": [],
   "source": [
    "from solution import Futoshiki"
   ]
  },
  {
   "cell_type": "code",
   "execution_count": 2,
   "metadata": {},
   "outputs": [
    {
     "name": "stdout",
     "output_type": "stream",
     "text": [
      "[['^', '^', '0', '0', '0'], ['0', '0', '0', '0', '0'], ['0', '0', '0', '0', '0'], ['0', 'v', '0', '0', '0']]\n"
     ]
    }
   ],
   "source": [
    "with open(\"data/sample1.txt\") as sample:\n",
    "    parsed = sample.read()\n",
    "\n",
    "    items = parsed.split(\"\\n\")\n",
    "\n",
    "    numbers = [row.split() for row in items[:5]]\n",
    "    col_ieq = [row.split() for row in items[6:11]]\n",
    "    row_ieq = [row.split() for row in items[12:17]]\n",
    "\n",
    "    print(row_ieq)"
   ]
  },
  {
   "cell_type": "code",
   "execution_count": 3,
   "metadata": {},
   "outputs": [],
   "source": [
    "futoshiki1 = Futoshiki(numbers, col_ieq, row_ieq)"
   ]
  },
  {
   "cell_type": "code",
   "execution_count": 4,
   "metadata": {},
   "outputs": [
    {
     "data": {
      "text/plain": [
       "{(2, 0): '5',\n",
       " (3, 3): '2',\n",
       " (4, 4): '1',\n",
       " (0, 0): ['1', '2', '3', '4'],\n",
       " (0, 1): ['1', '2', '3', '4', '5'],\n",
       " (0, 2): ['1', '2', '3', '4', '5'],\n",
       " (0, 3): ['1', '3', '4', '5'],\n",
       " (0, 4): ['2', '3', '4', '5'],\n",
       " (1, 0): ['1', '2', '3', '4'],\n",
       " (1, 1): ['1', '2', '3', '4', '5'],\n",
       " (1, 2): ['1', '2', '3', '4', '5'],\n",
       " (1, 3): ['1', '3', '4', '5'],\n",
       " (1, 4): ['2', '3', '4', '5'],\n",
       " (2, 1): ['1', '2', '3', '4'],\n",
       " (2, 2): ['1', '2', '3', '4'],\n",
       " (2, 3): ['1', '3', '4'],\n",
       " (2, 4): ['2', '3', '4'],\n",
       " (3, 0): ['1', '3', '4'],\n",
       " (3, 1): ['1', '3', '4', '5'],\n",
       " (3, 2): ['1', '3', '4', '5'],\n",
       " (3, 4): ['3', '4', '5'],\n",
       " (4, 0): ['2', '3', '4'],\n",
       " (4, 1): ['2', '3', '4', '5'],\n",
       " (4, 2): ['2', '3', '4', '5'],\n",
       " (4, 3): ['3', '4', '5']}"
      ]
     },
     "execution_count": 4,
     "metadata": {},
     "output_type": "execute_result"
    }
   ],
   "source": [
    "futoshiki1.cell_values"
   ]
  },
  {
   "cell_type": "code",
   "execution_count": null,
   "metadata": {},
   "outputs": [],
   "source": []
  }
 ],
 "metadata": {
  "kernelspec": {
   "display_name": "Python 3.8.2 64-bit",
   "language": "python",
   "name": "python3"
  },
  "language_info": {
   "codemirror_mode": {
    "name": "ipython",
    "version": 3
   },
   "file_extension": ".py",
   "mimetype": "text/x-python",
   "name": "python",
   "nbconvert_exporter": "python",
   "pygments_lexer": "ipython3",
   "version": "3.8.2"
  },
  "orig_nbformat": 4,
  "vscode": {
   "interpreter": {
    "hash": "570feb405e2e27c949193ac68f46852414290d515b0ba6e5d90d076ed2284471"
   }
  }
 },
 "nbformat": 4,
 "nbformat_minor": 2
}
